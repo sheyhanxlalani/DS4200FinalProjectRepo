{
 "cells": [
  {
   "cell_type": "markdown",
   "metadata": {},
   "source": [
    "This is the Python file for our plots.\n",
    "\n",
    "\n",
    "The first one is for shots by position. "
   ]
  },
  {
   "cell_type": "code",
   "execution_count": 16,
   "metadata": {},
   "outputs": [
    {
     "name": "stderr",
     "output_type": "stream",
     "text": [
      "/var/folders/wp/y0mdy9bn7bj7hqwrmhyjh2kh0000gn/T/ipykernel_5097/2266004270.py:13: AltairDeprecationWarning: Deprecated in `altair=5.0.0`. Use selection_point instead.\n",
      "  position_selection = alt.selection_single(\n",
      "/var/folders/wp/y0mdy9bn7bj7hqwrmhyjh2kh0000gn/T/ipykernel_5097/2266004270.py:22: AltairDeprecationWarning: Deprecated in `altair=5.0.0`. Use add_params instead.\n",
      "  chart = alt.Chart(filtered_data).mark_circle(size=100).encode(\n"
     ]
    },
    {
     "name": "stdout",
     "output_type": "stream",
     "text": [
      "Chart has been saved to shot_locations_chart.html\n"
     ]
    }
   ],
   "source": [
    "import altair as alt\n",
    "import pandas as pd\n",
    "\n",
    "\n",
    "# Load the CSV file into a Pandas DataFrame\n",
    "file_path = 'nba-late-game-shots.csv'\n",
    "df = pd.read_csv(file_path)\n",
    "\n",
    "# Filter the data for late-game shots\n",
    "filtered_data = df[(df[\"QUARTER\"] >= 4) & (df[\"MINS_LEFT\"] <= 2)]\n",
    "\n",
    "# Define the selection for interactivity with a cleaner label\n",
    "position_selection = alt.selection_single(\n",
    "    fields=[\"POSITION\"],\n",
    "    bind=alt.binding_select(\n",
    "        options=filtered_data[\"POSITION\"].unique(),\n",
    "        name=\"Position: \"  # Set the label explicitly\n",
    "    )\n",
    ")\n",
    "\n",
    "# Create the chart\n",
    "chart = alt.Chart(filtered_data).mark_circle(size=100).encode(\n",
    "    x=alt.X(\"LOC_X:Q\", scale=alt.Scale(domain=(-25, 25)), title=\"X Location\"),\n",
    "    y=alt.Y(\"LOC_Y:Q\", scale=alt.Scale(domain=(0, 85)), title=\"Y Location\"),\n",
    "    color=alt.condition(\n",
    "        alt.datum.EVENT_TYPE == \"Made Shot\",\n",
    "        alt.value(\"green\"),  # Made shots\n",
    "        alt.value(\"red\")     # Missed shots\n",
    "    ),\n",
    "    tooltip=[\"PLAYER_NAME\", \"EVENT_TYPE\", \"POSITION\", \"LOC_X\", \"LOC_Y\"]\n",
    ").properties(\n",
    "    width=600,\n",
    "    height=600,\n",
    "    title=\"Shot Locations for Selected Position\"\n",
    ").add_selection(\n",
    "    position_selection\n",
    ").transform_filter(\n",
    "    position_selection\n",
    ")\n",
    "\n",
    "# Save the chart to an HTML file\n",
    "output_file_path = 'shot_locations_chart.html'\n",
    "chart.save(output_file_path)\n",
    "\n",
    "print(f\"Chart has been saved to {output_file_path}\")\n"
   ]
  },
  {
   "cell_type": "markdown",
   "metadata": {},
   "source": []
  },
  {
   "cell_type": "code",
   "execution_count": 17,
   "metadata": {},
   "outputs": [],
   "source": [
    "data = pd.read_csv('nba-late-game-shots.csv')\n",
    "time_slider = alt.binding_range(min=0, max=60, step=1, name='Seconds Left')\n",
    "time_selection = alt.param(value=60, bind=time_slider)\n",
    "\n",
    "shot_filter = alt.binding_select(options=['Both', 'Made', 'Missed'], name='Shot Outcome')\n",
    "shot_selection = alt.param(value='Both', bind=shot_filter)\n",
    "\n",
    "distance_time = alt.Chart(data).mark_circle().add_params(\n",
    "    time_selection,\n",
    "    shot_selection\n",
    ").encode(\n",
    "    alt.X('LOC_X:Q', title='Horizontal Distance from Basket',\n",
    "          scale=alt.Scale(domain=[-25, 25])),\n",
    "    alt.Y('LOC_Y:Q', title='Distance From Baseline',\n",
    "          scale=alt.Scale(domain=[0, 94])),\n",
    "    alt.Color(\n",
    "        'SHOT_MADE:N', \n",
    "        title='Shot Made',\n",
    "        scale=alt.Scale(domain=[True, False], range=['red', 'blue'])\n",
    "    ),\n",
    "    alt.Tooltip(['PLAYER_NAME:N', 'GAME_DATE:N', 'SECS_LEFT:Q']),\n",
    "    alt.OpacityValue(0.4)\n",
    ").transform_filter(\n",
    "    (alt.datum.SECS_LEFT <= time_selection) &\n",
    "    ((shot_selection == 'Both') | \n",
    "     ((shot_selection == 'Made') & (alt.datum.SHOT_MADE == True)) |\n",
    "     ((shot_selection == 'Missed') & (alt.datum.SHOT_MADE == False)))\n",
    ").properties(\n",
    "    width=250,\n",
    "    height=470\n",
    ").configure_axis(\n",
    "    grid=False\n",
    ")\n",
    "\n",
    "shot_type_data = data.groupby('ACTION_TYPE').agg(\n",
    "    attempts=('SHOT_MADE', 'count'),\n",
    "    made=('SHOT_MADE', 'sum')\n",
    ").reset_index()\n",
    "\n",
    "shot_type_data['shooting_percentage'] = (shot_type_data['made'] / shot_type_data['attempts']) * 100\n",
    "\n",
    "shot_types = alt.Chart(shot_type_data).mark_bar().encode(\n",
    "    x=alt.X('ACTION_TYPE:N', title='Shot Type', sort='-y'),\n",
    "    y=alt.Y('shooting_percentage:Q', title='Shooting Percentage', scale=alt.Scale(domain=[0, 100])),\n",
    "    color=alt.Color('attempts:Q', scale=alt.Scale(scheme='reds'), title='Attempts'),\n",
    "    tooltip=['ACTION_TYPE', 'shooting_percentage', 'attempts', 'made']\n",
    ").properties(\n",
    "    title='Shooting Percentage by Shot Type (Color by Attempts)',\n",
    "    width=600,\n",
    "    height=400\n",
    ")\n",
    "\n",
    "distance_time.save('distance_time.html')\n",
    "shot_types.save('shot_types.html')\n"
   ]
  },
  {
   "cell_type": "markdown",
   "metadata": {},
   "source": [
    "Dataset 4"
   ]
  },
  {
   "cell_type": "code",
   "execution_count": 18,
   "metadata": {},
   "outputs": [
    {
     "ename": "ModuleNotFoundError",
     "evalue": "No module named 'matplotlib'",
     "output_type": "error",
     "traceback": [
      "\u001b[0;31m---------------------------------------------------------------------------\u001b[0m",
      "\u001b[0;31mModuleNotFoundError\u001b[0m                       Traceback (most recent call last)",
      "Cell \u001b[0;32mIn[18], line 1\u001b[0m\n\u001b[0;32m----> 1\u001b[0m \u001b[38;5;28;01mimport\u001b[39;00m \u001b[38;5;21;01mmatplotlib\u001b[39;00m\u001b[38;5;21;01m.\u001b[39;00m\u001b[38;5;21;01mpyplot\u001b[39;00m \u001b[38;5;28;01mas\u001b[39;00m \u001b[38;5;21;01mplt\u001b[39;00m\n\u001b[1;32m      2\u001b[0m \u001b[38;5;66;03m# Load the dataset\u001b[39;00m\n\u001b[1;32m      3\u001b[0m nba_late_game_shots \u001b[38;5;241m=\u001b[39m pd\u001b[38;5;241m.\u001b[39mread_csv(\u001b[38;5;124m'\u001b[39m\u001b[38;5;124mnba-late-game-shots.csv\u001b[39m\u001b[38;5;124m'\u001b[39m)\n",
      "\u001b[0;31mModuleNotFoundError\u001b[0m: No module named 'matplotlib'"
     ]
    }
   ],
   "source": [
    "import matplotlib.pyplot as plt\n",
    "# Load the dataset\n",
    "nba_late_game_shots = pd.read_csv('nba-late-game-shots.csv')\n",
    "\n",
    "# Calculate total shots and successful shots by team\n",
    "team_late_game_stats = nba_late_game_shots.groupby('TEAM_NAME').agg(\n",
    "    total_shots=('SHOT_MADE', 'count'),\n",
    "    successful_shots=('SHOT_MADE', 'sum')\n",
    ").reset_index()\n",
    "\n",
    "# Calculate shooting percentage\n",
    "team_late_game_stats['shooting_percentage'] = (\n",
    "    team_late_game_stats['successful_shots'] / team_late_game_stats['total_shots']\n",
    ") * 100\n",
    "\n",
    "# Plotting the data\n",
    "plt.figure(figsize=(12, 8))\n",
    "plt.scatter(team_late_game_stats['total_shots'], team_late_game_stats['shooting_percentage'], alpha=0.7)\n",
    "plt.title(\"NBA Late-Game Shots: Total Shots vs. Shooting Percentage\", fontsize=14)\n",
    "plt.xlabel(\"Total Shots\", fontsize=12)\n",
    "plt.ylabel(\"Shooting Percentage (%)\", fontsize=12)\n",
    "plt.grid(True, linestyle='--', alpha=0.5)\n",
    "\n",
    "# Annotate team names\n",
    "for _, row in team_late_game_stats.iterrows():\n",
    "    plt.text(row['total_shots'], row['shooting_percentage'], row['TEAM_NAME'], fontsize=8, alpha=0.7)\n",
    "\n",
    "plt.show()\n",
    "plt.savefig('nba_late_game_shots_by_team.png')\n"
   ]
  }
 ],
 "metadata": {
  "kernelspec": {
   "display_name": "base",
   "language": "python",
   "name": "python3"
  },
  "language_info": {
   "codemirror_mode": {
    "name": "ipython",
    "version": 3
   },
   "file_extension": ".py",
   "mimetype": "text/x-python",
   "name": "python",
   "nbconvert_exporter": "python",
   "pygments_lexer": "ipython3",
   "version": "3.9.6"
  }
 },
 "nbformat": 4,
 "nbformat_minor": 2
}
