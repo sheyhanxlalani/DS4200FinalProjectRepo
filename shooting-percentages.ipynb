{
 "cells": [
  {
   "cell_type": "code",
   "execution_count": 5,
   "id": "870b3db5-e732-434d-90d5-2f956fe03a82",
   "metadata": {},
   "outputs": [],
   "source": [
    "import pandas as pd\n",
    "\n",
    "# load dataset\n",
    "df = pd.read_csv(\"nba-late-game-shots.csv\")\n",
    "\n",
    "# calculate total shots and successful shots by distance\n",
    "df_shooting_percentage = df.groupby(\"SHOT_DISTANCE\").agg(\n",
    "    TOTAL = (\"SHOT_DISTANCE\", \"count\"),\n",
    "    SUCCESSES = (\"SHOT_MADE\", \"sum\")\n",
    ").reset_index()\n",
    "\n",
    "# calculate shooting percentage \n",
    "df_shooting_percentage[\"SHOOTING_PERCENTAGE\"] = (\n",
    "    df_shooting_percentage[\"SUCCESSES\"]/df_shooting_percentage[\"TOTAL\"]\n",
    ") * 100\n",
    "\n",
    "df_shooting_percentage.to_csv(\"nba-late-game-shots-with-shooting-percentage.csv\", index=False)"
   ]
  }
 ],
 "metadata": {
  "kernelspec": {
   "display_name": "Python 3 (ipykernel)",
   "language": "python",
   "name": "python3"
  },
  "language_info": {
   "codemirror_mode": {
    "name": "ipython",
    "version": 3
   },
   "file_extension": ".py",
   "mimetype": "text/x-python",
   "name": "python",
   "nbconvert_exporter": "python",
   "pygments_lexer": "ipython3",
   "version": "3.12.3"
  }
 },
 "nbformat": 4,
 "nbformat_minor": 5
}
